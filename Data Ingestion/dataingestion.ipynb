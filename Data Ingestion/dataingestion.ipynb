{
 "cells": [
  {
   "cell_type": "code",
   "execution_count": 1,
   "id": "c8d643da",
   "metadata": {},
   "outputs": [
    {
     "name": "stderr",
     "output_type": "stream",
     "text": [
      "c:\\python\\ai\\dataingestion\\.venv\\Lib\\site-packages\\tqdm\\auto.py:21: TqdmWarning: IProgress not found. Please update jupyter and ipywidgets. See https://ipywidgets.readthedocs.io/en/stable/user_install.html\n",
      "  from .autonotebook import tqdm as notebook_tqdm\n"
     ]
    }
   ],
   "source": [
    "import pandas as pd\n",
    "import os\n",
    "from typing import List, Dict, Any\n",
    "from langchain_openai import ChatOpenAI\n",
    "from langchain_core.documents import Document\n",
    "from langchain.text_splitter import RecursiveCharacterTextSplitter, CharacterTextSplitter, TokenTextSplitter\n",
    "from langchain_community.document_loaders import TextLoader"
   ]
  },
  {
   "cell_type": "code",
   "execution_count": 2,
   "id": "e9de59cb",
   "metadata": {},
   "outputs": [],
   "source": [
    "txtloader = TextLoader(\"C:\\\\Users\\\\abhin\\\\Downloads\\\\sampletest.txt\")\n",
    "doc = txtloader.load()"
   ]
  },
  {
   "cell_type": "code",
   "execution_count": 3,
   "id": "9166da84",
   "metadata": {},
   "outputs": [
    {
     "data": {
      "text/plain": [
       "[Document(metadata={'source': 'C:\\\\Users\\\\abhin\\\\Downloads\\\\sampletest.txt'}, page_content='Generative AI is like a digital storyteller with infinite imagination. Unlike traditional AI, which is programmed to follow predefined rules, generative models learn patterns from vast amounts of data and then use that knowledge to create something entirely new. For example, a generative AI trained on millions of images can paint a landscape that has never existed beforeâ€”mountains sculpted by algorithms, skies tinted in colors only a neural network would imagine. When applied to text, it can'),\n",
       " Document(metadata={'source': 'C:\\\\Users\\\\abhin\\\\Downloads\\\\sampletest.txt'}, page_content='on millions of images can paint a landscape that has never existed beforeâ€”mountains sculpted by algorithms, skies tinted in colors only a neural network would imagine. When applied to text, it can craft entire essays, poems, or product descriptions tailored to a specific audience, capturing nuance, tone, and context.'),\n",
       " Document(metadata={'source': 'C:\\\\Users\\\\abhin\\\\Downloads\\\\sampletest.txt'}, page_content='In business, generative AI is transforming workflows: marketing teams use it to design campaigns in minutes, developers rely on it to generate code snippets, and filmmakers experiment with AI to create storyboards, scripts, and even animated sequences. In healthcare, it assists scientists by generating potential drug molecules or simulating biological interactions that would take years to test manually.'),\n",
       " Document(metadata={'source': 'C:\\\\Users\\\\abhin\\\\Downloads\\\\sampletest.txt'}, page_content='But what makes generative AI remarkable is not just its ability to mimic; itâ€™s the way it amplifies human creativity. It doesnâ€™t replace imaginationâ€”it fuels it, offering fresh perspectives and countless variations at the speed of thought. Whether in art, science, or everyday productivity, generative AI acts as both a collaborator and a catalyst, unlocking possibilities once thought unreachable.')]"
      ]
     },
     "execution_count": 3,
     "metadata": {},
     "output_type": "execute_result"
    }
   ],
   "source": [
    "split = RecursiveCharacterTextSplitter(chunk_size=500, chunk_overlap=200)\n",
    "chunks = split.split_documents(doc)\n",
    "chunks"
   ]
  },
  {
   "cell_type": "code",
   "execution_count": 4,
   "id": "54e625ab",
   "metadata": {},
   "outputs": [],
   "source": [
    "from dotenv import load_dotenv\n",
    "load_dotenv()\n",
    "os.environ[\"HUGGINGFACE_API_TOKEN\"] = os.getenv(\"HUGGINGFACE_API_TOKEN\")"
   ]
  },
  {
   "cell_type": "markdown",
   "id": "93228391",
   "metadata": {},
   "source": [
    "Embedding the chunks into vectors and storing in Vector DB"
   ]
  },
  {
   "cell_type": "code",
   "execution_count": 5,
   "id": "c2f0ba61",
   "metadata": {},
   "outputs": [],
   "source": [
    "from langchain_chroma import Chroma\n",
    "from langchain_huggingface import HuggingFaceEmbeddings\n",
    "embeddings = HuggingFaceEmbeddings(model=\"all-MiniLM-L6-v2\")\n",
    "vectors = Chroma.from_documents(chunks,embedding=embeddings)"
   ]
  },
  {
   "cell_type": "code",
   "execution_count": 6,
   "id": "62af750a",
   "metadata": {},
   "outputs": [
    {
     "data": {
      "text/plain": [
       "[Document(id='68982fb5-b662-4a97-9e3d-c45a4812d90d', metadata={'source': 'C:\\\\Users\\\\abhin\\\\Downloads\\\\sampletest.txt'}, page_content='Generative AI is like a digital storyteller with infinite imagination. Unlike traditional AI, which is programmed to follow predefined rules, generative models learn patterns from vast amounts of data and then use that knowledge to create something entirely new. For example, a generative AI trained on millions of images can paint a landscape that has never existed beforeâ€”mountains sculpted by algorithms, skies tinted in colors only a neural network would imagine. When applied to text, it can'),\n",
       " Document(id='98ae397c-dcb6-4bc8-8075-29381bfd4279', metadata={'source': 'C:\\\\Users\\\\abhin\\\\Downloads\\\\sampletest.txt'}, page_content='But what makes generative AI remarkable is not just its ability to mimic; itâ€™s the way it amplifies human creativity. It doesnâ€™t replace imaginationâ€”it fuels it, offering fresh perspectives and countless variations at the speed of thought. Whether in art, science, or everyday productivity, generative AI acts as both a collaborator and a catalyst, unlocking possibilities once thought unreachable.'),\n",
       " Document(id='212b62b2-dbdb-4e96-9653-63162de1d551', metadata={'source': 'C:\\\\Users\\\\abhin\\\\Downloads\\\\sampletest.txt'}, page_content='In business, generative AI is transforming workflows: marketing teams use it to design campaigns in minutes, developers rely on it to generate code snippets, and filmmakers experiment with AI to create storyboards, scripts, and even animated sequences. In healthcare, it assists scientists by generating potential drug molecules or simulating biological interactions that would take years to test manually.'),\n",
       " Document(id='d94b4832-d105-4593-9561-bc942b46f61b', metadata={'source': 'C:\\\\Users\\\\abhin\\\\Downloads\\\\sampletest.txt'}, page_content='on millions of images can paint a landscape that has never existed beforeâ€”mountains sculpted by algorithms, skies tinted in colors only a neural network would imagine. When applied to text, it can craft entire essays, poems, or product descriptions tailored to a specific audience, capturing nuance, tone, and context.')]"
      ]
     },
     "execution_count": 6,
     "metadata": {},
     "output_type": "execute_result"
    }
   ],
   "source": [
    "vectors.similarity_search(\"What is Generative AI?\")"
   ]
  },
  {
   "cell_type": "code",
   "execution_count": 7,
   "id": "442310ef",
   "metadata": {},
   "outputs": [
    {
     "data": {
      "text/plain": [
       "[[Document(id='212b62b2-dbdb-4e96-9653-63162de1d551', metadata={'source': 'C:\\\\Users\\\\abhin\\\\Downloads\\\\sampletest.txt'}, page_content='In business, generative AI is transforming workflows: marketing teams use it to design campaigns in minutes, developers rely on it to generate code snippets, and filmmakers experiment with AI to create storyboards, scripts, and even animated sequences. In healthcare, it assists scientists by generating potential drug molecules or simulating biological interactions that would take years to test manually.')],\n",
       " [Document(id='68982fb5-b662-4a97-9e3d-c45a4812d90d', metadata={'source': 'C:\\\\Users\\\\abhin\\\\Downloads\\\\sampletest.txt'}, page_content='Generative AI is like a digital storyteller with infinite imagination. Unlike traditional AI, which is programmed to follow predefined rules, generative models learn patterns from vast amounts of data and then use that knowledge to create something entirely new. For example, a generative AI trained on millions of images can paint a landscape that has never existed beforeâ€”mountains sculpted by algorithms, skies tinted in colors only a neural network would imagine. When applied to text, it can')]]"
      ]
     },
     "execution_count": 7,
     "metadata": {},
     "output_type": "execute_result"
    }
   ],
   "source": [
    "retriever = vectors.as_retriever(\n",
    "    search_type=\"similarity\",\n",
    "    search_kwargs={\"k\":1}\n",
    ")\n",
    "retriever.batch([\"ai\", \"generative ai\"])"
   ]
  }
 ],
 "metadata": {
  "kernelspec": {
   "display_name": ".venv",
   "language": "python",
   "name": "python3"
  },
  "language_info": {
   "codemirror_mode": {
    "name": "ipython",
    "version": 3
   },
   "file_extension": ".py",
   "mimetype": "text/x-python",
   "name": "python",
   "nbconvert_exporter": "python",
   "pygments_lexer": "ipython3",
   "version": "3.12.10"
  }
 },
 "nbformat": 4,
 "nbformat_minor": 5
}
